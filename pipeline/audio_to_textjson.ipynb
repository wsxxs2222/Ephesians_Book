{
<<<<<<< HEAD
 "cells": [
  {
   "cell_type": "code",
   "execution_count": null,
   "metadata": {
    "colab": {
     "base_uri": "https://localhost:8080/"
    },
    "executionInfo": {
     "elapsed": 436,
     "status": "ok",
     "timestamp": 1755896548142,
     "user": {
      "displayName": "Joe",
      "userId": "00811207529967257179"
     },
     "user_tz": 300
    },
    "id": "0Rr4kMFQbLrJ",
    "outputId": "7c9483f7-d26c-4178-a742-c02f96e2b27c"
   },
   "outputs": [],
   "source": [
    "from google.colab import drive\n",
    "drive.mount('/content/drive')"
   ]
  },
  {
   "cell_type": "code",
   "execution_count": null,
   "metadata": {
    "colab": {
     "base_uri": "https://localhost:8080/"
    },
    "executionInfo": {
     "elapsed": 22926,
     "status": "ok",
     "timestamp": 1755895466114,
     "user": {
      "displayName": "Joe",
      "userId": "00811207529967257179"
     },
     "user_tz": 300
    },
    "id": "Ha8EC19PRwGU",
    "outputId": "9457febb-66a8-4f14-eaf3-333a1fc3f4ee"
   },
   "outputs": [],
   "source": [
    "!pip install -q git+https://github.com/openai/whisper.git\n",
    "!apt update && apt install -y ffmpeg\n"
   ]
  },
  {
   "cell_type": "code",
   "execution_count": null,
   "metadata": {
    "colab": {
     "base_uri": "https://localhost:8080/"
    },
    "executionInfo": {
     "elapsed": 5010,
     "status": "ok",
     "timestamp": 1755897703064,
     "user": {
      "displayName": "Joe",
      "userId": "00811207529967257179"
     },
     "user_tz": 300
    },
    "id": "f4zoWppzqIZr",
    "outputId": "92521e75-d86e-4d9b-c6e3-0e3cdee6a142"
   },
   "outputs": [],
   "source": [
    "!pip install OpenCC"
   ]
  },
  {
   "cell_type": "code",
   "execution_count": null,
   "metadata": {
    "id": "CSHKXL6_R5Og"
   },
   "outputs": [],
   "source": [
    "start_index = 0\n",
    "end_index = 3\n",
    "folder_path = '/content/drive/My Drive/Ephesians_Book/'\n",
    "audio_file_prefix = 'part'\n",
    "text_file_prefix = audio_file_prefix"
   ]
  },
  {
   "cell_type": "code",
   "execution_count": null,
   "metadata": {
    "id": "oKMbShdsp85I"
   },
   "outputs": [],
   "source": [
    "from opencc import OpenCC\n",
    "import whisper"
   ]
  },
  {
   "cell_type": "code",
   "execution_count": null,
   "metadata": {
    "id": "WYKNvZvCqRMj"
   },
   "outputs": [],
   "source": [
    "cc = OpenCC('t2s')"
   ]
  },
  {
   "cell_type": "code",
   "execution_count": null,
   "metadata": {
    "id": "qm2mTHTXSAVZ"
   },
   "outputs": [],
   "source": [
    "\n",
    "\n",
    "# Load the model (you can use \"small\", \"medium\", or \"large\" — large = best accuracy)\n",
    "model = whisper.load_model(\"small\")  # medium is good for Chinese & faster than large"
   ]
  },
  {
   "cell_type": "code",
   "execution_count": null,
   "metadata": {
    "id": "OBiSWOmPh9gv"
   },
   "outputs": [],
   "source": [
    "def file_name_builder(folder_path, file_prefix, file_extension, index):\n",
    "  return f\"{folder_path}{file_prefix}_{index:03d}.{file_extension}\""
   ]
  },
  {
   "cell_type": "code",
   "execution_count": null,
   "metadata": {
    "colab": {
     "base_uri": "https://localhost:8080/"
    },
    "executionInfo": {
     "elapsed": 101,
     "status": "ok",
     "timestamp": 1755896259623,
     "user": {
      "displayName": "Joe",
      "userId": "00811207529967257179"
     },
     "user_tz": 300
    },
    "id": "CltOi9ZnkNyO",
    "outputId": "d513b303-11c6-4ff2-e177-949f03ee8fe2"
   },
   "outputs": [],
   "source": [
    "%ls '/content/drive/My Drive/'"
   ]
  },
  {
   "cell_type": "code",
   "execution_count": null,
   "metadata": {
    "colab": {
     "base_uri": "https://localhost:8080/"
    },
    "executionInfo": {
     "elapsed": 312171,
     "status": "ok",
     "timestamp": 1755898088256,
     "user": {
      "displayName": "Joe",
      "userId": "00811207529967257179"
     },
     "user_tz": 300
    },
    "id": "m8iZaR08b32p",
    "outputId": "c1adebaf-3248-4d6d-b6f6-28f561d212b4"
   },
   "outputs": [],
   "source": [
    "for i in range(start_index, end_index):\n",
    "  audio_file_name = file_name_builder(f\"{folder_path}audio_files_experiment/\",\n",
    "                                      audio_file_prefix, \"m4a\", i)\n",
    "  print(f\"processing file {audio_file_name}\")\n",
    "\n",
    "  result = model.transcribe(audio_file_name, language=\"zh\")\n",
    "  # convert any traditional Chinese to simplified Chinese\n",
    "  result[\"text\"] = cc.convert(result[\"text\"])\n",
    "\n",
    "  text_file_name = file_name_builder(f\"{folder_path}text_files_experiment/\",\n",
    "                                    text_file_prefix, \"txt\", i)\n",
    "  with open(text_file_name, \"w\", encoding=\"utf-8\") as f:\n",
    "    f.write(result[\"text\"])"
   ]
  },
  {
   "cell_type": "markdown",
   "metadata": {
    "id": "SeN4ISx4XD3i"
   },
   "source": []
  }
 ],
 "metadata": {
  "accelerator": "GPU",
  "colab": {
   "gpuType": "T4",
   "provenance": []
  },
  "kernelspec": {
   "display_name": "Python 3",
   "name": "python3"
  },
  "language_info": {
   "name": "python"
  }
 },
 "nbformat": 4,
 "nbformat_minor": 0
}
=======
  "nbformat": 4,
  "nbformat_minor": 0,
  "metadata": {
    "colab": {
      "provenance": [],
      "gpuType": "T4"
    },
    "kernelspec": {
      "name": "python3",
      "display_name": "Python 3"
    },
    "language_info": {
      "name": "python"
    },
    "accelerator": "GPU"
  },
  "cells": [
    {
      "cell_type": "code",
      "source": [
        "from google.colab import drive\n",
        "drive.mount('/content/drive')"
      ],
      "metadata": {
        "colab": {
          "base_uri": "https://localhost:8080/"
        },
        "id": "0Rr4kMFQbLrJ",
        "outputId": "7a3c4a42-7935-4c17-fb84-5aad1cfb493f"
      },
      "execution_count": 1,
      "outputs": [
        {
          "output_type": "stream",
          "name": "stdout",
          "text": [
            "Mounted at /content/drive\n"
          ]
        }
      ]
    },
    {
      "cell_type": "code",
      "execution_count": 4,
      "metadata": {
        "colab": {
          "base_uri": "https://localhost:8080/"
        },
        "id": "Ha8EC19PRwGU",
        "outputId": "c75dc90f-2f3e-4e80-e0f3-06ca49ded584"
      },
      "outputs": [
        {
          "output_type": "stream",
          "name": "stdout",
          "text": [
            "  Installing build dependencies ... \u001b[?25l\u001b[?25hdone\n",
            "  Getting requirements to build wheel ... \u001b[?25l\u001b[?25hdone\n",
            "  Preparing metadata (pyproject.toml) ... \u001b[?25l\u001b[?25hdone\n",
            "Hit:1 https://cloud.r-project.org/bin/linux/ubuntu jammy-cran40/ InRelease\n",
            "Hit:2 https://cli.github.com/packages stable InRelease\n",
            "Hit:3 https://developer.download.nvidia.com/compute/cuda/repos/ubuntu2204/x86_64  InRelease\n",
            "Hit:4 https://r2u.stat.illinois.edu/ubuntu jammy InRelease\n",
            "Hit:5 http://security.ubuntu.com/ubuntu jammy-security InRelease\n",
            "Hit:6 http://archive.ubuntu.com/ubuntu jammy InRelease\n",
            "Hit:7 http://archive.ubuntu.com/ubuntu jammy-updates InRelease\n",
            "Hit:8 http://archive.ubuntu.com/ubuntu jammy-backports InRelease\n",
            "Hit:9 https://ppa.launchpadcontent.net/deadsnakes/ppa/ubuntu jammy InRelease\n",
            "Hit:10 https://ppa.launchpadcontent.net/graphics-drivers/ppa/ubuntu jammy InRelease\n",
            "Hit:11 https://ppa.launchpadcontent.net/ubuntugis/ppa/ubuntu jammy InRelease\n",
            "Reading package lists... Done\n",
            "Building dependency tree... Done\n",
            "Reading state information... Done\n",
            "41 packages can be upgraded. Run 'apt list --upgradable' to see them.\n",
            "\u001b[1;33mW: \u001b[0mSkipping acquire of configured file 'main/source/Sources' as repository 'https://r2u.stat.illinois.edu/ubuntu jammy InRelease' does not seem to provide it (sources.list entry misspelt?)\u001b[0m\n",
            "Reading package lists... Done\n",
            "Building dependency tree... Done\n",
            "Reading state information... Done\n",
            "ffmpeg is already the newest version (7:4.4.2-0ubuntu0.22.04.1).\n",
            "0 upgraded, 0 newly installed, 0 to remove and 41 not upgraded.\n",
            "Requirement already satisfied: nbstripout in /usr/local/lib/python3.12/dist-packages (0.8.1)\n",
            "Requirement already satisfied: nbformat in /usr/local/lib/python3.12/dist-packages (from nbstripout) (5.10.4)\n",
            "Requirement already satisfied: fastjsonschema>=2.15 in /usr/local/lib/python3.12/dist-packages (from nbformat->nbstripout) (2.21.2)\n",
            "Requirement already satisfied: jsonschema>=2.6 in /usr/local/lib/python3.12/dist-packages (from nbformat->nbstripout) (4.25.1)\n",
            "Requirement already satisfied: jupyter-core!=5.0.*,>=4.12 in /usr/local/lib/python3.12/dist-packages (from nbformat->nbstripout) (5.8.1)\n",
            "Requirement already satisfied: traitlets>=5.1 in /usr/local/lib/python3.12/dist-packages (from nbformat->nbstripout) (5.7.1)\n",
            "Requirement already satisfied: attrs>=22.2.0 in /usr/local/lib/python3.12/dist-packages (from jsonschema>=2.6->nbformat->nbstripout) (25.3.0)\n",
            "Requirement already satisfied: jsonschema-specifications>=2023.03.6 in /usr/local/lib/python3.12/dist-packages (from jsonschema>=2.6->nbformat->nbstripout) (2025.4.1)\n",
            "Requirement already satisfied: referencing>=0.28.4 in /usr/local/lib/python3.12/dist-packages (from jsonschema>=2.6->nbformat->nbstripout) (0.36.2)\n",
            "Requirement already satisfied: rpds-py>=0.7.1 in /usr/local/lib/python3.12/dist-packages (from jsonschema>=2.6->nbformat->nbstripout) (0.27.0)\n",
            "Requirement already satisfied: platformdirs>=2.5 in /usr/local/lib/python3.12/dist-packages (from jupyter-core!=5.0.*,>=4.12->nbformat->nbstripout) (4.3.8)\n",
            "Requirement already satisfied: typing-extensions>=4.4.0 in /usr/local/lib/python3.12/dist-packages (from referencing>=0.28.4->jsonschema>=2.6->nbformat->nbstripout) (4.15.0)\n",
            "fatal: --local can only be used inside a git repository\n",
            "Installation failed: not a git repository!\n",
            "Collecting OpenCC\n",
            "  Downloading OpenCC-1.1.9-cp312-cp312-manylinux2014_x86_64.whl.metadata (13 kB)\n",
            "Downloading OpenCC-1.1.9-cp312-cp312-manylinux2014_x86_64.whl (1.7 MB)\n",
            "\u001b[2K   \u001b[90m━━━━━━━━━━━━━━━━━━━━━━━━━━━━━━━━━━━━━━━━\u001b[0m \u001b[32m1.7/1.7 MB\u001b[0m \u001b[31m26.7 MB/s\u001b[0m eta \u001b[36m0:00:00\u001b[0m\n",
            "\u001b[?25hInstalling collected packages: OpenCC\n",
            "Successfully installed OpenCC-1.1.9\n"
          ]
        }
      ],
      "source": [
        "!pip install -q git+https://github.com/openai/whisper.git\n",
        "!apt update && apt install -y ffmpeg\n",
        "!pip install nbstripout\n",
        "!nbstripout --install\n",
        "!pip install OpenCC"
      ]
    },
    {
      "cell_type": "code",
      "source": [
        "from opencc import OpenCC\n",
        "import whisper\n",
        "import json"
      ],
      "metadata": {
        "id": "BER4On2fBAgy"
      },
      "execution_count": 9,
      "outputs": []
    },
    {
      "cell_type": "code",
      "source": [
        "folder_path = '/content/drive/My Drive/Ephesians_Book/'\n",
        "audio_file_prefix = 'part'\n",
        "text_file_prefix = audio_file_prefix\n",
        "cc = OpenCC('t2s')\n",
        "# Load the model (you can use \"small\", \"medium\", or \"large\" — large = best accuracy)\n",
        "model = whisper.load_model(\"small\")  # medium is good for Chinese & faster than large"
      ],
      "metadata": {
        "id": "CSHKXL6_R5Og",
        "outputId": "7185e3d9-2f68-43b4-bdf2-9e473b806fce",
        "colab": {
          "base_uri": "https://localhost:8080/"
        }
      },
      "execution_count": 6,
      "outputs": [
        {
          "output_type": "stream",
          "name": "stderr",
          "text": [
            "100%|███████████████████████████████████████| 461M/461M [00:09<00:00, 48.9MiB/s]\n"
          ]
        }
      ]
    },
    {
      "cell_type": "code",
      "source": [
        "def file_name_builder(folder_path, file_prefix, file_extension, index):\n",
        "  return f\"{folder_path}{file_prefix}_{index:03d}.{file_extension}\""
      ],
      "metadata": {
        "id": "OBiSWOmPh9gv"
      },
      "execution_count": 8,
      "outputs": []
    },
    {
      "cell_type": "code",
      "source": [
        "def convert_audio_files_to_text_json(start_index, end_index):\n",
        "  for i in range(start_index, end_index):\n",
        "    audio_file_name = file_name_builder(f\"{folder_path}audio_files_experiment/\",\n",
        "                                        audio_file_prefix, \"m4a\", i)\n",
        "    print(f\"processing file {audio_file_name}\")\n",
        "\n",
        "    result = model.transcribe(audio_file_name, language=\"zh\")\n",
        "    # convert any traditional Chinese to simplified Chinese\n",
        "    segment_object_list = transcription_result_to_objects(result)\n",
        "\n",
        "    json_file_name = file_name_builder(f\"{folder_path}text_files_experiment/\",\n",
        "                                      text_file_prefix, \"json\", i)\n",
        "    with open(json_file_name, \"w\", encoding=\"utf-8\") as f:\n",
        "      json.dump(segment_object_list, f, ensure_ascii=False, indent=2)"
      ],
      "metadata": {
        "id": "m8iZaR08b32p"
      },
      "execution_count": 10,
      "outputs": []
    },
    {
      "cell_type": "code",
      "source": [
        "def transcription_result_to_objects(result):\n",
        "  segment_object_list = []\n",
        "  for segment in result[\"segments\"]:\n",
        "    segment_object = {\n",
        "        \"content\": cc.convert(segment[\"text\"]),\n",
        "        \"startTime\": segment[\"start\"],\n",
        "        \"endTime\": segment[\"end\"],\n",
        "        \"titleIndex\": None\n",
        "    }\n",
        "    segment_object_list.append(segment_object)\n",
        "  return segment_object_list"
      ],
      "metadata": {
        "id": "xv__o_3VAxeF"
      },
      "execution_count": 11,
      "outputs": []
    },
    {
      "cell_type": "code",
      "source": [
        "convert_audio_files_to_text_json(1, 2)"
      ],
      "metadata": {
        "id": "hKn882m7DWFs",
        "outputId": "a0b1483c-06eb-4fa2-b9d8-ad1d451055e3",
        "colab": {
          "base_uri": "https://localhost:8080/"
        }
      },
      "execution_count": 12,
      "outputs": [
        {
          "output_type": "stream",
          "name": "stdout",
          "text": [
            "processing file /content/drive/My Drive/Ephesians_Book/audio_files_experiment/part_001.m4a\n"
          ]
        }
      ]
    },
    {
      "cell_type": "markdown",
      "source": [],
      "metadata": {
        "id": "SeN4ISx4XD3i"
      }
    }
  ]
}
>>>>>>> 0a087f6 (update audio file convert to return a json file with objects representing sentences instead of the whole block of text)
