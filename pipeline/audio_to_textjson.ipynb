{
 "cells": [
  {
   "cell_type": "code",
   "execution_count": null,
   "metadata": {
    "colab": {
     "base_uri": "https://localhost:8080/"
    },
    "executionInfo": {
     "elapsed": 436,
     "status": "ok",
     "timestamp": 1755896548142,
     "user": {
      "displayName": "Joe",
      "userId": "00811207529967257179"
     },
     "user_tz": 300
    },
    "id": "0Rr4kMFQbLrJ",
    "outputId": "7c9483f7-d26c-4178-a742-c02f96e2b27c"
   },
   "outputs": [],
   "source": [
    "from google.colab import drive\n",
    "drive.mount('/content/drive')"
   ]
  },
  {
   "cell_type": "code",
   "execution_count": null,
   "metadata": {
    "colab": {
     "base_uri": "https://localhost:8080/"
    },
    "executionInfo": {
     "elapsed": 22926,
     "status": "ok",
     "timestamp": 1755895466114,
     "user": {
      "displayName": "Joe",
      "userId": "00811207529967257179"
     },
     "user_tz": 300
    },
    "id": "Ha8EC19PRwGU",
    "outputId": "9457febb-66a8-4f14-eaf3-333a1fc3f4ee"
   },
   "outputs": [],
   "source": [
    "!pip install -q git+https://github.com/openai/whisper.git\n",
    "!apt update && apt install -y ffmpeg\n"
   ]
  },
  {
   "cell_type": "code",
   "execution_count": null,
   "metadata": {
    "colab": {
     "base_uri": "https://localhost:8080/"
    },
    "executionInfo": {
     "elapsed": 5010,
     "status": "ok",
     "timestamp": 1755897703064,
     "user": {
      "displayName": "Joe",
      "userId": "00811207529967257179"
     },
     "user_tz": 300
    },
    "id": "f4zoWppzqIZr",
    "outputId": "92521e75-d86e-4d9b-c6e3-0e3cdee6a142"
   },
   "outputs": [],
   "source": [
    "!pip install OpenCC"
   ]
  },
  {
   "cell_type": "code",
   "execution_count": null,
   "metadata": {
    "id": "CSHKXL6_R5Og"
   },
   "outputs": [],
   "source": [
    "start_index = 0\n",
    "end_index = 3\n",
    "folder_path = '/content/drive/My Drive/Ephesians_Book/'\n",
    "audio_file_prefix = 'part'\n",
    "text_file_prefix = audio_file_prefix"
   ]
  },
  {
   "cell_type": "code",
   "execution_count": null,
   "metadata": {
    "id": "oKMbShdsp85I"
   },
   "outputs": [],
   "source": [
    "from opencc import OpenCC\n",
    "import whisper"
   ]
  },
  {
   "cell_type": "code",
   "execution_count": null,
   "metadata": {
    "id": "WYKNvZvCqRMj"
   },
   "outputs": [],
   "source": [
    "cc = OpenCC('t2s')"
   ]
  },
  {
   "cell_type": "code",
   "execution_count": null,
   "metadata": {
    "id": "qm2mTHTXSAVZ"
   },
   "outputs": [],
   "source": [
    "\n",
    "\n",
    "# Load the model (you can use \"small\", \"medium\", or \"large\" — large = best accuracy)\n",
    "model = whisper.load_model(\"small\")  # medium is good for Chinese & faster than large"
   ]
  },
  {
   "cell_type": "code",
   "execution_count": null,
   "metadata": {
    "id": "OBiSWOmPh9gv"
   },
   "outputs": [],
   "source": [
    "def file_name_builder(folder_path, file_prefix, file_extension, index):\n",
    "  return f\"{folder_path}{file_prefix}_{index:03d}.{file_extension}\""
   ]
  },
  {
   "cell_type": "code",
   "execution_count": null,
   "metadata": {
    "colab": {
     "base_uri": "https://localhost:8080/"
    },
    "executionInfo": {
     "elapsed": 101,
     "status": "ok",
     "timestamp": 1755896259623,
     "user": {
      "displayName": "Joe",
      "userId": "00811207529967257179"
     },
     "user_tz": 300
    },
    "id": "CltOi9ZnkNyO",
    "outputId": "d513b303-11c6-4ff2-e177-949f03ee8fe2"
   },
   "outputs": [],
   "source": [
    "%ls '/content/drive/My Drive/'"
   ]
  },
  {
   "cell_type": "code",
   "execution_count": null,
   "metadata": {
    "colab": {
     "base_uri": "https://localhost:8080/"
    },
    "executionInfo": {
     "elapsed": 312171,
     "status": "ok",
     "timestamp": 1755898088256,
     "user": {
      "displayName": "Joe",
      "userId": "00811207529967257179"
     },
     "user_tz": 300
    },
    "id": "m8iZaR08b32p",
    "outputId": "c1adebaf-3248-4d6d-b6f6-28f561d212b4"
   },
   "outputs": [],
   "source": [
    "for i in range(start_index, end_index):\n",
    "  audio_file_name = file_name_builder(f\"{folder_path}audio_files_experiment/\",\n",
    "                                      audio_file_prefix, \"m4a\", i)\n",
    "  print(f\"processing file {audio_file_name}\")\n",
    "\n",
    "  result = model.transcribe(audio_file_name, language=\"zh\")\n",
    "  # convert any traditional Chinese to simplified Chinese\n",
    "  result[\"text\"] = cc.convert(result[\"text\"])\n",
    "\n",
    "  text_file_name = file_name_builder(f\"{folder_path}text_files_experiment/\",\n",
    "                                    text_file_prefix, \"txt\", i)\n",
    "  with open(text_file_name, \"w\", encoding=\"utf-8\") as f:\n",
    "    f.write(result[\"text\"])"
   ]
  },
  {
   "cell_type": "markdown",
   "metadata": {
    "id": "SeN4ISx4XD3i"
   },
   "source": []
  }
 ],
 "metadata": {
  "accelerator": "GPU",
  "colab": {
   "gpuType": "T4",
   "provenance": []
  },
  "kernelspec": {
   "display_name": "Python 3",
   "name": "python3"
  },
  "language_info": {
   "name": "python"
  }
 },
 "nbformat": 4,
 "nbformat_minor": 0
}
