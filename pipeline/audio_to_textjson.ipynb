{
 "cells": [
  {
   "cell_type": "code",
   "execution_count": null,
   "metadata": {
    "id": "0Rr4kMFQbLrJ"
   },
   "outputs": [],
   "source": [
    "from google.colab import drive\n",
    "drive.mount('/content/drive')"
   ]
  },
  {
   "cell_type": "code",
   "execution_count": null,
   "metadata": {
    "id": "Ha8EC19PRwGU"
   },
   "outputs": [],
   "source": [
    "!pip install -q git+https://github.com/openai/whisper.git\n",
    "!apt update && apt install -y ffmpeg\n",
    "!pip install nbstripout\n",
    "!pip install OpenCC"
   ]
  },
  {
   "cell_type": "code",
   "execution_count": null,
   "metadata": {
    "id": "BER4On2fBAgy"
   },
   "outputs": [],
   "source": [
    "from opencc import OpenCC\n",
    "import whisper\n",
    "import json"
   ]
  },
  {
   "cell_type": "code",
   "execution_count": null,
   "metadata": {
    "id": "CSHKXL6_R5Og"
   },
   "outputs": [],
   "source": [
    "folder_path = '/content/drive/My Drive/Ephesians_Book/'\n",
    "audio_file_prefix = 'Eph'\n",
    "text_file_prefix = audio_file_prefix\n",
    "cc = OpenCC('t2s')\n",
    "# Load the model (you can use \"small\", \"medium\", or \"large\" — large = best accuracy)\n",
    "model = whisper.load_model(\"small\")  # medium is good for Chinese & faster than large"
   ]
  },
  {
   "cell_type": "code",
   "execution_count": null,
   "metadata": {
    "id": "OBiSWOmPh9gv"
   },
   "outputs": [],
   "source": [
    "def file_name_builder(folder_path, file_prefix, file_extension, index):\n",
    "  return f\"{folder_path}{file_prefix}_{index:02d}.{file_extension}\""
   ]
  },
  {
   "cell_type": "code",
   "execution_count": null,
   "metadata": {
    "id": "m8iZaR08b32p"
   },
   "outputs": [],
   "source": [
    "def convert_audio_files_to_text_json(start_index, end_index):\n",
    "  for i in range(start_index, end_index):\n",
    "    audio_file_name = file_name_builder(f\"{folder_path}audio/\",\n",
    "                                        audio_file_prefix, \"mp4\", i)\n",
    "    print(f\"processing file {audio_file_name}\")\n",
    "\n",
    "    result = model.transcribe(audio_file_name, language=\"zh\")\n",
    "    # convert any traditional Chinese to simplified Chinese\n",
    "    segment_object_list = transcription_result_to_objects(result)\n",
    "\n",
    "    json_file_name = file_name_builder(f\"{folder_path}text_output/\",\n",
    "                                      text_file_prefix, \"json\", i)\n",
    "    with open(json_file_name, \"w\", encoding=\"utf-8\") as f:\n",
    "      json.dump(segment_object_list, f, ensure_ascii=False, indent=2)"
   ]
  },
  {
   "cell_type": "code",
   "execution_count": null,
   "metadata": {
    "id": "xv__o_3VAxeF"
   },
   "outputs": [],
   "source": [
    "def transcription_result_to_objects(result):\n",
    "  segment_object_list = []\n",
    "  for segment in result[\"segments\"]:\n",
    "    segment_object = {\n",
    "        \"content\": cc.convert(segment[\"text\"]),\n",
    "        \"startTime\": segment[\"start\"],\n",
    "        \"endTime\": segment[\"end\"],\n",
    "        \"titleIndex\": None\n",
    "    }\n",
    "    segment_object_list.append(segment_object)\n",
    "  return segment_object_list"
   ]
  },
  {
   "cell_type": "code",
   "execution_count": null,
   "metadata": {
    "id": "hKn882m7DWFs"
   },
   "outputs": [],
   "source": [
    "convert_audio_files_to_text_json(0, 3)"
   ]
  },
  {
   "cell_type": "markdown",
   "metadata": {
    "id": "SeN4ISx4XD3i"
   },
   "source": []
  }
 ],
 "metadata": {
  "accelerator": "GPU",
  "colab": {
   "gpuType": "T4",
   "provenance": []
  },
  "kernelspec": {
   "display_name": "Python 3",
   "name": "python3"
  },
  "language_info": {
   "name": "python"
  }
 },
 "nbformat": 4,
 "nbformat_minor": 0
}
