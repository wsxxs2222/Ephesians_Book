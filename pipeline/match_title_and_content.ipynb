{
 "cells": [
  {
   "cell_type": "code",
   "execution_count": 1,
   "id": "527d1f63-dd5b-4016-9dc8-df3e4b695c4d",
   "metadata": {},
   "outputs": [
    {
     "name": "stderr",
     "output_type": "stream",
     "text": [
      "C:\\Users\\wsxxs22\\AppData\\Local\\Programs\\Python\\Python312\\Lib\\site-packages\\tqdm\\auto.py:21: TqdmWarning: IProgress not found. Please update jupyter and ipywidgets. See https://ipywidgets.readthedocs.io/en/stable/user_install.html\n",
      "  from .autonotebook import tqdm as notebook_tqdm\n"
     ]
    }
   ],
   "source": [
    "import json\n",
    "from sentence_transformers import SentenceTransformer, util\n",
    "import numpy as np"
   ]
  },
  {
   "cell_type": "code",
   "execution_count": 2,
   "id": "d0986108-7a30-4223-8054-06898e9cc298",
   "metadata": {},
   "outputs": [],
   "source": [
    "def file_name_builder(folder_path, file_prefix, file_extension, index):\n",
    "  return f\"{folder_path}{file_prefix}_{index:03d}.{file_extension}\""
   ]
  },
  {
   "cell_type": "code",
   "execution_count": 3,
   "id": "e71c25ce-10a9-486b-87c7-fae39935c79b",
   "metadata": {},
   "outputs": [],
   "source": [
    "folder_path = '../processed_data/'"
   ]
  },
  {
   "cell_type": "code",
   "execution_count": 4,
   "id": "97c83c4c-b987-49d4-a8cc-8506a78db316",
   "metadata": {},
   "outputs": [],
   "source": [
    "def match_content_with_title(title_object_list,\n",
    "                             content_object_list,\n",
    "                             model_name=\"all-mpnet-base-v2\",\n",
    "                             window_size=20,\n",
    "                             threshold=0.3\n",
    "                            ):\n",
    "    model = SentenceTransformer(model_name)\n",
    "\n",
    "    content_embedding = model.encode(\n",
    "        [content_object[\"content\"] for content_object in content_object_list],\n",
    "        convert_to_tensor=True\n",
    "    )\n",
    "    title_embedding = model.encode(\n",
    "        [title_object[\"content\"] for title_object in title_object_list],\n",
    "        convert_to_tensor=True\n",
    "    )\n",
    "    print(f\"the content_embedding is of shape {content_embedding.shape}\")\n",
    "    print(f\"the title_embedding is of shape {title_embedding.shape}\")\n",
    "    \n",
    "    matched_content_object_list = []\n",
    "    current_title_index = 0\n",
    "    m = len(title_object_list)\n",
    "\n",
    "    for i, embedding in enumerate(content_embedding):\n",
    "        high_title_index = min(current_title_index + window_size, m - 1)\n",
    "        similarity_vector = util.cos_sim(embedding, title_embedding[current_title_index: high_title_index+1])[0]\n",
    "\n",
    "        best_title_rel_index = int(np.argmax(similarity_vector))\n",
    "        best_similarity_score = float(similarity_vector[best_title_rel_index])\n",
    "        best_title_index = current_title_index + best_title_rel_index\n",
    "\n",
    "        if best_similarity_score >= threshold:\n",
    "            current_title_index = best_title_index\n",
    "        else:\n",
    "            best_title_index = None\n",
    "        matched_object = {**content_object_list[i], \"titleIndex\": best_title_index}\n",
    "        matched_content_object_list.append(matched_object)\n",
    "    return matched_content_object_list"
   ]
  },
  {
   "cell_type": "code",
   "execution_count": 8,
   "id": "25233e53-c176-4fea-a9b6-2dd9cc87c876",
   "metadata": {},
   "outputs": [],
   "source": [
    "import re\n",
    "import copy\n",
    "import pprint\n",
    "\n",
    "def pair_lecture_content_final(titles, contents):\n",
    "    \"\"\"\n",
    "    Pairs audio transcript segments with presentation bullet points using\n",
    "    advanced heuristics for accuracy. (Version 3 - Definitive Logic)\n",
    "\n",
    "    This version incorporates:\n",
    "    1. A limited Search Window to prevent illogical jumps.\n",
    "    2. A Contiguity Bonus to favor a natural, sequential slide progression.\n",
    "    \"\"\"\n",
    "    # --- Parameters ---\n",
    "    SIMILARITY_THRESHOLD = 0.45  # A balanced threshold\n",
    "    MIN_TRANSCRIPT_LENGTH = 10\n",
    "    SEARCH_WINDOW = 8  # **NEW**: Only look ahead this many titles for a match.\n",
    "\n",
    "    # --- State Initialization ---\n",
    "    modified_contents = copy.deepcopy(contents)\n",
    "    search_start_index = 0\n",
    "\n",
    "    # --- Main Loop ---\n",
    "    for i, content_item in enumerate(modified_contents):\n",
    "        transcript_text = content_item['content']\n",
    "        if len(transcript_text) < MIN_TRANSCRIPT_LENGTH:\n",
    "            modified_contents[i]['titleIndex'] = -1\n",
    "            continue\n",
    "        transcript_chars = set(transcript_text)\n",
    "        \n",
    "        candidates = []\n",
    "        # Define the end of our search window for this specific transcript\n",
    "        search_end_index = min(search_start_index + SEARCH_WINDOW, len(titles))\n",
    "\n",
    "        for j in range(search_start_index, search_end_index):\n",
    "            title_text = titles[j]['content']\n",
    "            cleaned_title = re.sub(r'[（）\\s():\\-“”,.V徒Acts]', '', title_text)\n",
    "            title_chars = set(cleaned_title)\n",
    "            if not title_chars:\n",
    "                continue\n",
    "            \n",
    "            overlap = len(transcript_chars.intersection(title_chars))\n",
    "            score = overlap / len(title_chars)\n",
    "\n",
    "            if score >= SIMILARITY_THRESHOLD:\n",
    "                # --- NEW: Calculate the Contiguity Bonus ---\n",
    "                # This rewards matches that are closer to the last known point.\n",
    "                # A distance of 0 (the current slide) gets the highest bonus.\n",
    "                distance = j - search_start_index\n",
    "                bonus = 1.0 / (1.0 + distance) # Bonus is high for small distances\n",
    "                \n",
    "                # The final score is a combination of the raw overlap and the bonus\n",
    "                final_score = overlap * bonus\n",
    "                \n",
    "                candidates.append({\n",
    "                    'index': j,\n",
    "                    'final_score': final_score, # Our new primary sorting key\n",
    "                    'overlap': overlap # Fallback sorting key\n",
    "                })\n",
    "\n",
    "        if not candidates:\n",
    "            modified_contents[i]['titleIndex'] = -1\n",
    "        else:\n",
    "            # --- UPDATED SORTING LOGIC ---\n",
    "            # Sort by the new, intelligent final_score. This balances substance (overlap)\n",
    "            # with natural flow (bonus).\n",
    "            best_candidate = sorted(candidates, key=lambda x: (x['final_score'], x['overlap']), reverse=True)[0]\n",
    "            \n",
    "            best_index = best_candidate['index']\n",
    "            modified_contents[i]['titleIndex'] = best_index\n",
    "            search_start_index = best_index\n",
    "\n",
    "    return modified_contents"
   ]
  },
  {
   "cell_type": "code",
   "execution_count": 9,
   "id": "1520f2de-d3ce-4cfc-aff2-227303f2a868",
   "metadata": {},
   "outputs": [],
   "source": [
    "def update_content_json_files_with_matched_titles(start_index, end_index):\n",
    "    for i in range(start_index, end_index):\n",
    "        title_file_name = file_name_builder(f\"{folder_path}title_from_ppt/\", \"part\"\n",
    "        , \"json\", i)\n",
    "        content_file_name = file_name_builder(f\"{folder_path}combined_text_block/\", \"part\"\n",
    "        , \"json\", i)\n",
    "        with open(title_file_name, \"r\", encoding=\"utf-8\") as f:\n",
    "            title_object_list = json.load(f)\n",
    "        with open(content_file_name, \"r\", encoding=\"utf-8\") as f:\n",
    "            content_object_list = json.load(f)\n",
    "\n",
    "        matched_content_object_list = pair_lecture_content_final(title_object_list, content_object_list)\n",
    "\n",
    "        with open(content_file_name, \"w\", encoding=\"utf-8\") as f:\n",
    "            json.dump(matched_content_object_list, f, ensure_ascii=False, indent=2)"
   ]
  },
  {
   "cell_type": "code",
   "execution_count": 10,
   "id": "59115183-b784-4c88-a1fc-a8bebac3fcdc",
   "metadata": {},
   "outputs": [],
   "source": [
    "update_content_json_files_with_matched_titles(0, 3)"
   ]
  },
  {
   "cell_type": "code",
   "execution_count": null,
   "id": "0c4973e1-f5bd-4245-bf6b-5e413bcc0e24",
   "metadata": {},
   "outputs": [],
   "source": []
  }
 ],
 "metadata": {
  "kernelspec": {
   "display_name": "Python 3 (ipykernel)",
   "language": "python",
   "name": "python3"
  },
  "language_info": {
   "codemirror_mode": {
    "name": "ipython",
    "version": 3
   },
   "file_extension": ".py",
   "mimetype": "text/x-python",
   "name": "python",
   "nbconvert_exporter": "python",
   "pygments_lexer": "ipython3",
   "version": "3.12.0"
  }
 },
 "nbformat": 4,
 "nbformat_minor": 5
}
