{
 "cells": [
  {
   "cell_type": "code",
   "execution_count": null,
   "metadata": {
    "colab": {
     "base_uri": "https://localhost:8080/"
    },
    "executionInfo": {
     "elapsed": 445,
     "status": "ok",
     "timestamp": 1755963798866,
     "user": {
      "displayName": "Joe",
      "userId": "00811207529967257179"
     },
     "user_tz": 300
    },
    "id": "Gb2VWBnJ3t0r",
    "outputId": "1a574431-6ee3-4f35-d3b4-62782209ad66"
   },
   "outputs": [],
   "source": [
    "from google.colab import drive\n",
    "drive.mount('/content/drive')"
   ]
  },
  {
   "cell_type": "code",
   "execution_count": null,
   "metadata": {
    "colab": {
     "base_uri": "https://localhost:8080/"
    },
    "executionInfo": {
     "elapsed": 5430,
     "status": "ok",
     "timestamp": 1755963804294,
     "user": {
      "displayName": "Joe",
      "userId": "00811207529967257179"
     },
     "user_tz": 300
    },
    "id": "vWk_00sV4v6r",
    "outputId": "31fb57f3-59c2-4686-9a5d-5189f9ee3a3f"
   },
   "outputs": [],
   "source": [
    "!pip install python-pptx"
   ]
  },
  {
   "cell_type": "code",
   "execution_count": null,
   "metadata": {
    "id": "pZvKcr98mQw5"
   },
   "outputs": [],
   "source": [
    "import json\n",
    "from pptx import Presentation"
   ]
  },
  {
   "cell_type": "code",
   "execution_count": null,
   "metadata": {
    "id": "KP8pCTSe4B9x"
   },
   "outputs": [],
   "source": [
    "def file_name_builder(folder_path, file_prefix, file_extension, index):\n",
    "  return f\"{folder_path}{file_prefix}_{index:03d}.{file_extension}\""
   ]
  },
  {
   "cell_type": "code",
   "execution_count": null,
   "metadata": {
    "id": "9eBD8lo-4C2X"
   },
   "outputs": [],
   "source": [
    "folder_path = '/content/drive/My Drive/Ephesians_Book/'"
   ]
  },
  {
   "cell_type": "code",
   "execution_count": null,
   "metadata": {
    "id": "_KUhJCyJ38HG"
   },
   "outputs": [],
   "source": [
    "\n",
    "\n",
    "ppt_file = file_name_builder(f\"{folder_path}ppt_files_experiment/\", \"Eph\"\n",
    ", \"pptx\", 1)\n",
    "prs = Presentation(ppt_file)\n",
    "\n",
    "slides_json = []\n",
    "\n",
    "for slide_idx, slide in enumerate(prs.slides, 1):\n",
    "    slide_data = {\n",
    "        \"slide_number\": slide_idx,\n",
    "        \"paragraphs\": []\n",
    "    }\n",
    "    for shape in slide.shapes:\n",
    "        if not shape.has_text_frame:\n",
    "            continue\n",
    "        for para in shape.text_frame.paragraphs:\n",
    "            text = para.text.strip()\n",
    "            if text:\n",
    "                slide_data[\"paragraphs\"].append({\n",
    "                    \"paragraphContent\": text,\n",
    "                    \"level\": para.level,\n",
    "                    \"content_type\": \"\"   # placeholder, to be annotated manually\n",
    "                })\n",
    "    slides_json.append(slide_data)\n",
    "\n",
    "json_file_name = file_name_builder(f\"{folder_path}converted_ppt/\", \"Eph\"\n",
    ", \"json\", 1)\n",
    "# Save as JSON file\n",
    "with open(json_file_name, \"w\", encoding=\"utf-8\") as f:\n",
    "    json.dump(slides_json, f, ensure_ascii=False, indent=2)\n"
   ]
  },
  {
   "cell_type": "code",
   "execution_count": null,
   "metadata": {
    "id": "m5AZoljD5Z4D"
   },
   "outputs": [],
   "source": []
  },
  {
   "cell_type": "code",
   "execution_count": null,
   "metadata": {
    "id": "YPjsYCcc5yeY"
   },
   "outputs": [],
   "source": []
  }
 ],
 "metadata": {
  "colab": {
   "authorship_tag": "ABX9TyOIXGcxIPx9Y+1AFqUdGw+O",
   "provenance": []
  },
  "kernelspec": {
   "display_name": "Python 3",
   "name": "python3"
  },
  "language_info": {
   "name": "python"
  }
 },
 "nbformat": 4,
 "nbformat_minor": 0
}
