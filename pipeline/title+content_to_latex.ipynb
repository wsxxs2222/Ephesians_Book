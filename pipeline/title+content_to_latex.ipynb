{
 "cells": [
  {
   "cell_type": "code",
   "execution_count": null,
   "metadata": {
    "colab": {
     "base_uri": "https://localhost:8080/"
    },
    "executionInfo": {
     "elapsed": 14514,
     "status": "ok",
     "timestamp": 1756487706998,
     "user": {
      "displayName": "Joe",
      "userId": "00811207529967257179"
     },
     "user_tz": 300
    },
    "id": "yeiaPSV5ogXR",
    "outputId": "8cae2713-c5b1-4c07-85c6-042652a4718c"
   },
   "outputs": [],
   "source": [
    "from google.colab import drive\n",
    "drive.mount('/content/drive')"
   ]
  },
  {
   "cell_type": "code",
   "execution_count": null,
   "metadata": {
    "executionInfo": {
     "elapsed": 1,
     "status": "ok",
     "timestamp": 1756487707001,
     "user": {
      "displayName": "Joe",
      "userId": "00811207529967257179"
     },
     "user_tz": 300
    },
    "id": "acCG5DdCnzB7"
   },
   "outputs": [],
   "source": [
    "import json"
   ]
  },
  {
   "cell_type": "code",
   "execution_count": null,
   "metadata": {
    "executionInfo": {
     "elapsed": 6,
     "status": "ok",
     "timestamp": 1756487770557,
     "user": {
      "displayName": "Joe",
      "userId": "00811207529967257179"
     },
     "user_tz": 300
    },
    "id": "VYPs1-DZxRcl"
   },
   "outputs": [],
   "source": [
    "def handle_latex_special_characters(c):\n",
    "  match c:\n",
    "    case \"&\" | \"%\" | \"$\" | \"#\" | \"_\" | \"{\" | \"}\":\n",
    "      return \"\\\\\" + c\n",
    "    case \"~\":\n",
    "      return \"\\\\textasciitilde\"\n",
    "    case \"^\":\n",
    "      return \"\\\\textasciicircum\"\n",
    "    case \"\\\\\":\n",
    "      return \"\\\\textbackslash\"\n",
    "    case _:\n",
    "      return c\n",
    "\n",
    "def modify_string_for_latex(s):\n",
    "  new_string = \"\"\n",
    "  for c in s:\n",
    "    new_string += handle_latex_special_characters(c)\n",
    "  return new_string"
   ]
  },
  {
   "cell_type": "code",
   "execution_count": null,
   "metadata": {
    "executionInfo": {
     "elapsed": 7,
     "status": "ok",
     "timestamp": 1756489052763,
     "user": {
      "displayName": "Joe",
      "userId": "00811207529967257179"
     },
     "user_tz": 300
    },
    "id": "ouD3wSmhoffB"
   },
   "outputs": [],
   "source": [
    "from ast import mod\n",
    "def file_name_builder(folder_path, file_prefix, file_extension, index):\n",
    "  return f\"{folder_path}{file_prefix}_{index:03d}.{file_extension}\"\n",
    "\n",
    "def json_to_latex(json_file, output_file):\n",
    "    # Mapping of levels to LaTeX sectioning commands\n",
    "    # \\\\ is the escape sequence for \\\n",
    "    level_to_cmd = {\n",
    "        0: \"\\\\section\",\n",
    "        1: \"\\\\subsection\",\n",
    "        2: \"\\\\subsubsection\"\n",
    "    }\n",
    "\n",
    "    with open(json_file, \"r\", encoding=\"utf-8\") as f:\n",
    "        slides = json.load(f)\n",
    "\n",
    "    latex_lines = [\n",
    "        r\"\\documentclass[12pt]{ctexart}\",  # Use ctex for Chinese support\n",
    "        r\"\\begin{document}\",\n",
    "        \"\"\n",
    "    ]\n",
    "\n",
    "    for slide in slides:\n",
    "        latex_lines.append(f\"% --- Slide {slide['slide_number']} ---\")  # helpful comment\n",
    "        for para in slide[\"paragraphs\"]:\n",
    "            title = para[\"paragraphContent\"].strip()\n",
    "            title = modify_string_for_latex(title)\n",
    "            level = para[\"level\"]\n",
    "\n",
    "            # Default to subsubsection if unexpected level\n",
    "            cmd = level_to_cmd.get(level, \"\\\\subsubsection\")\n",
    "\n",
    "            latex_lines.append(cmd + \"{\" + title + \"}\" + \"\\n\" + \"placeholder\")\n",
    "\n",
    "        latex_lines.append(\"\")  # blank line after each slide\n",
    "\n",
    "    latex_lines += [\n",
    "        r\"\\end{document}\"\n",
    "    ]\n",
    "\n",
    "    with open(output_file, \"w\", encoding=\"utf-8\") as f:\n",
    "        f.write(\"\\n\".join(latex_lines))\n"
   ]
  },
  {
   "cell_type": "code",
   "execution_count": null,
   "metadata": {
    "executionInfo": {
     "elapsed": 7,
     "status": "ok",
     "timestamp": 1756487707012,
     "user": {
      "displayName": "Joe",
      "userId": "00811207529967257179"
     },
     "user_tz": 300
    },
    "id": "9T8ISUS3ozSw"
   },
   "outputs": [],
   "source": [
    "folder_path = '/content/drive/My Drive/Ephesians_Book/'\n",
    "\n",
    "json_file_name = file_name_builder(f\"{folder_path}converted_ppt/\", \"Eph\"\n",
    ", \"json\", 1)\n",
    "latex_file_name = file_name_builder(f\"{folder_path}latex_skeleton/\", \"Eph\"\n",
    ", \"tex\", 1)"
   ]
  },
  {
   "cell_type": "code",
   "execution_count": null,
   "metadata": {
    "executionInfo": {
     "elapsed": 17,
     "status": "ok",
     "timestamp": 1756489055436,
     "user": {
      "displayName": "Joe",
      "userId": "00811207529967257179"
     },
     "user_tz": 300
    },
    "id": "C6SMrXWtpJ6W"
   },
   "outputs": [],
   "source": [
    "# Example usage\n",
    "json_to_latex(json_file_name, latex_file_name)"
   ]
  }
 ],
 "metadata": {
  "colab": {
   "authorship_tag": "ABX9TyPXafsGtwID0Ss1iBlzXRBh",
   "provenance": []
  },
  "kernelspec": {
   "display_name": "Python 3",
   "name": "python3"
  },
  "language_info": {
   "name": "python"
  }
 },
 "nbformat": 4,
 "nbformat_minor": 0
}
